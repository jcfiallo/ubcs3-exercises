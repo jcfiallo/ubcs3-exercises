{
 "cells": [
  {
   "cell_type": "markdown",
   "metadata": {},
   "source": [
    "# Calculator of sums \n",
    " \n",
    "## Give your number, I'll give you back the sum of them.\n",
    "\n",
    "* It does not matter if you know or you do not know how to add numbers. Something is doing it for you now.\n",
    "* Do not waste time adding thing up, you can maake a better use of your time playing Pokemon Go.\n",
    "* To see more information on addition see [addWiki](https://es.wikipedia.org/wiki/Adición_(matemática)\n",
    "![Imagen](http://www.mathematicsdictionary.com/spanish/vmd/images/a/addition.gif)\n",
    "\n"
   ]
  },
  {
   "cell_type": "markdown",
   "metadata": {},
   "source": [
    "We are going to work with the following algorith $a+b+c=(a+b)+c$"
   ]
  },
  {
   "cell_type": "code",
   "execution_count": 1,
   "metadata": {
    "collapsed": true
   },
   "outputs": [],
   "source": [
    "def suma(num1, num2):\n",
    "    return 'La suma de sus numeros es', num1+num2"
   ]
  },
  {
   "cell_type": "code",
   "execution_count": 2,
   "metadata": {
    "collapsed": false
   },
   "outputs": [
    {
     "name": "stdout",
     "output_type": "stream",
     "text": [
      "('La suma de sus numeros es', 10)\n"
     ]
    }
   ],
   "source": [
    "print(suma(5,5))"
   ]
  },
  {
   "cell_type": "markdown",
   "metadata": {},
   "source": []
  }
 ],
 "metadata": {
  "kernelspec": {
   "display_name": "Python 3",
   "language": "python",
   "name": "python3"
  },
  "language_info": {
   "codemirror_mode": {
    "name": "ipython",
    "version": 3
   },
   "file_extension": ".py",
   "mimetype": "text/x-python",
   "name": "python",
   "nbconvert_exporter": "python",
   "pygments_lexer": "ipython3",
   "version": "3.5.1"
  }
 },
 "nbformat": 4,
 "nbformat_minor": 0
}
